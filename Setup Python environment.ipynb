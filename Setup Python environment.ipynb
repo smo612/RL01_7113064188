{
 "cells": [
  {
   "cell_type": "code",
   "execution_count": 9,
   "metadata": {},
   "outputs": [
    {
     "name": "stdout",
     "output_type": "stream",
     "text": [
      "PyYAML version： 6.0.2\n",
      "NumPy version： 2.2.3\n",
      "PyTorch version： 2.6.0+cu126\n",
      "OpenAI Gym version： 0.26.2\n",
      "Moviepy version： 2.1.1\n",
      "Pygame version： 2.6.1\n",
      "scikit-learn version： 1.6.1\n",
      "Matplotlib version： 3.10.0\n"
     ]
    }
   ],
   "source": [
    "import yaml \n",
    "import numpy\n",
    "import torch\n",
    "import gym \n",
    "import moviepy\n",
    "import pygame\n",
    "import sklearn\n",
    "import matplotlib\n",
    "\n",
    "print(\"PyYAML version：\", yaml.__version__)\n",
    "print(\"NumPy version：\", numpy.__version__)\n",
    "print(\"PyTorch version：\", torch.__version__)\n",
    "print(\"OpenAI Gym version：\", gym.__version__)\n",
    "print(\"Moviepy version：\", moviepy.__version__)\n",
    "print(\"Pygame version：\", pygame.__version__)\n",
    "print(\"scikit-learn version：\", sklearn.__version__)\n",
    "print(\"Matplotlib version：\", matplotlib.__version__)"
   ]
  }
 ],
 "metadata": {
  "kernelspec": {
   "display_name": "rlhw1",
   "language": "python",
   "name": "python3"
  },
  "language_info": {
   "codemirror_mode": {
    "name": "ipython",
    "version": 3
   },
   "file_extension": ".py",
   "mimetype": "text/x-python",
   "name": "python",
   "nbconvert_exporter": "python",
   "pygments_lexer": "ipython3",
   "version": "3.10.16"
  }
 },
 "nbformat": 4,
 "nbformat_minor": 2
}
